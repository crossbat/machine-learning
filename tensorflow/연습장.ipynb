{
 "cells": [
  {
   "cell_type": "code",
   "execution_count": 3,
   "source": [
    "import pandas as pd\r\n",
    "from sklearn.datasets import fetch_20newsgroups\r\n",
    "import matplotlib.pyplot as plt\r\n",
    "from tensorflow.keras.preprocessing.text import Tokenizer\r\n",
    "from tensorflow.keras.utils import to_categorical\r\n",
    "import ssl"
   ],
   "outputs": [],
   "metadata": {}
  },
  {
   "cell_type": "code",
   "execution_count": 4,
   "source": [
    "ssl._create_default_https_context = ssl._create_unverified_context\r\n",
    "\r\n",
    "newsdata = fetch_20newsgroups(subset= 'train')"
   ],
   "outputs": [],
   "metadata": {}
  },
  {
   "cell_type": "code",
   "execution_count": 5,
   "source": [
    "print(newsdata.keys())"
   ],
   "outputs": [
    {
     "output_type": "stream",
     "name": "stdout",
     "text": [
      "dict_keys(['data', 'filenames', 'target_names', 'target', 'DESCR'])\n"
     ]
    }
   ],
   "metadata": {}
  },
  {
   "cell_type": "code",
   "execution_count": 7,
   "source": [
    "print('훈련 샘플의 개수 : {}'.format(len(newsdata.data)))"
   ],
   "outputs": [
    {
     "output_type": "stream",
     "name": "stdout",
     "text": [
      "훈련 샘플의 개수 : 11314\n"
     ]
    }
   ],
   "metadata": {}
  },
  {
   "cell_type": "code",
   "execution_count": 9,
   "source": [
    "print('총 주제의 개수 : {}'.format(len(newsdata.target_names)))\r\n",
    "print(newsdata.target_names)"
   ],
   "outputs": [
    {
     "output_type": "stream",
     "name": "stdout",
     "text": [
      "총 주제의 개수 : 20\n",
      "['alt.atheism', 'comp.graphics', 'comp.os.ms-windows.misc', 'comp.sys.ibm.pc.hardware', 'comp.sys.mac.hardware', 'comp.windows.x', 'misc.forsale', 'rec.autos', 'rec.motorcycles', 'rec.sport.baseball', 'rec.sport.hockey', 'sci.crypt', 'sci.electronics', 'sci.med', 'sci.space', 'soc.religion.christian', 'talk.politics.guns', 'talk.politics.mideast', 'talk.politics.misc', 'talk.religion.misc']\n"
     ]
    }
   ],
   "metadata": {}
  },
  {
   "cell_type": "code",
   "execution_count": 10,
   "source": [
    "data = pd.DataFrame(newsdata.data, columns = ['email'])\r\n",
    "data['target'] = pd.Series(newsdata.target)\r\n",
    "data.head()"
   ],
   "outputs": [
    {
     "output_type": "execute_result",
     "data": {
      "text/html": [
       "<div>\n",
       "<style scoped>\n",
       "    .dataframe tbody tr th:only-of-type {\n",
       "        vertical-align: middle;\n",
       "    }\n",
       "\n",
       "    .dataframe tbody tr th {\n",
       "        vertical-align: top;\n",
       "    }\n",
       "\n",
       "    .dataframe thead th {\n",
       "        text-align: right;\n",
       "    }\n",
       "</style>\n",
       "<table border=\"1\" class=\"dataframe\">\n",
       "  <thead>\n",
       "    <tr style=\"text-align: right;\">\n",
       "      <th></th>\n",
       "      <th>email</th>\n",
       "      <th>target</th>\n",
       "    </tr>\n",
       "  </thead>\n",
       "  <tbody>\n",
       "    <tr>\n",
       "      <th>0</th>\n",
       "      <td>From: lerxst@wam.umd.edu (where's my thing)\\nS...</td>\n",
       "      <td>7</td>\n",
       "    </tr>\n",
       "    <tr>\n",
       "      <th>1</th>\n",
       "      <td>From: guykuo@carson.u.washington.edu (Guy Kuo)...</td>\n",
       "      <td>4</td>\n",
       "    </tr>\n",
       "    <tr>\n",
       "      <th>2</th>\n",
       "      <td>From: twillis@ec.ecn.purdue.edu (Thomas E Will...</td>\n",
       "      <td>4</td>\n",
       "    </tr>\n",
       "    <tr>\n",
       "      <th>3</th>\n",
       "      <td>From: jgreen@amber (Joe Green)\\nSubject: Re: W...</td>\n",
       "      <td>1</td>\n",
       "    </tr>\n",
       "    <tr>\n",
       "      <th>4</th>\n",
       "      <td>From: jcm@head-cfa.harvard.edu (Jonathan McDow...</td>\n",
       "      <td>14</td>\n",
       "    </tr>\n",
       "  </tbody>\n",
       "</table>\n",
       "</div>"
      ],
      "text/plain": [
       "                                               email  target\n",
       "0  From: lerxst@wam.umd.edu (where's my thing)\\nS...       7\n",
       "1  From: guykuo@carson.u.washington.edu (Guy Kuo)...       4\n",
       "2  From: twillis@ec.ecn.purdue.edu (Thomas E Will...       4\n",
       "3  From: jgreen@amber (Joe Green)\\nSubject: Re: W...       1\n",
       "4  From: jcm@head-cfa.harvard.edu (Jonathan McDow...      14"
      ]
     },
     "metadata": {},
     "execution_count": 10
    }
   ],
   "metadata": {}
  },
  {
   "cell_type": "code",
   "execution_count": 11,
   "source": [
    "data.info()"
   ],
   "outputs": [
    {
     "output_type": "stream",
     "name": "stdout",
     "text": [
      "<class 'pandas.core.frame.DataFrame'>\n",
      "RangeIndex: 11314 entries, 0 to 11313\n",
      "Data columns (total 2 columns):\n",
      " #   Column  Non-Null Count  Dtype \n",
      "---  ------  --------------  ----- \n",
      " 0   email   11314 non-null  object\n",
      " 1   target  11314 non-null  int32 \n",
      "dtypes: int32(1), object(1)\n",
      "memory usage: 132.7+ KB\n"
     ]
    }
   ],
   "metadata": {}
  },
  {
   "cell_type": "code",
   "execution_count": 12,
   "source": [
    "data.isnull().values.any()"
   ],
   "outputs": [
    {
     "output_type": "execute_result",
     "data": {
      "text/plain": [
       "False"
      ]
     },
     "metadata": {},
     "execution_count": 12
    }
   ],
   "metadata": {}
  },
  {
   "cell_type": "code",
   "execution_count": 13,
   "source": [
    "print('중복을 제외한 샘플의 개수 : {}'.format(data['email'].nunique()))\r\n",
    "print('중복을 제외한 주제의 수 : {}'.format(data['target'].nunique()))"
   ],
   "outputs": [
    {
     "output_type": "stream",
     "name": "stdout",
     "text": [
      "중복을 제외한 샘플의 개수 : 11314\n",
      "중복을 제외한 주제의 수 : 20\n"
     ]
    }
   ],
   "metadata": {}
  },
  {
   "cell_type": "code",
   "execution_count": 16,
   "source": [
    "data['target'].value_counts().plot(kind = 'bar')"
   ],
   "outputs": [
    {
     "output_type": "execute_result",
     "data": {
      "text/plain": [
       "<AxesSubplot:>"
      ]
     },
     "metadata": {},
     "execution_count": 16
    },
    {
     "output_type": "display_data",
     "data": {
      "image/png": "[encoded data removed]",
      "text/plain": [
       "<Figure size 432x288 with 1 Axes>"
      ]
     },
     "metadata": {
      "needs_background": "light"
     }
    }
   ],
   "metadata": {}
  },
  {
   "cell_type": "code",
   "execution_count": 17,
   "source": [
    "print(data.groupby('target').size().reset_index(name = 'count'))"
   ],
   "outputs": [
    {
     "output_type": "stream",
     "name": "stdout",
     "text": [
      "    target  count\n",
      "0        0    480\n",
      "1        1    584\n",
      "2        2    591\n",
      "3        3    590\n",
      "4        4    578\n",
      "5        5    593\n",
      "6        6    585\n",
      "7        7    594\n",
      "8        8    598\n",
      "9        9    597\n",
      "10      10    600\n",
      "11      11    595\n",
      "12      12    591\n",
      "13      13    594\n",
      "14      14    593\n",
      "15      15    599\n",
      "16      16    546\n",
      "17      17    564\n",
      "18      18    465\n",
      "19      19    377\n"
     ]
    }
   ],
   "metadata": {}
  },
  {
   "cell_type": "code",
   "execution_count": 18,
   "source": [
    "newsdata_test = fetch_20newsgroups(subset= 'test')\r\n",
    "train_email = data['email']\r\n",
    "train_label = data['target']\r\n",
    "\r\n",
    "test_email = newsdata_test.data\r\n",
    "test_label = newsdata_test.target"
   ],
   "outputs": [],
   "metadata": {}
  },
  {
   "cell_type": "code",
   "execution_count": 19,
   "source": [
    "max_word = 10000\r\n",
    "num_classes = 20"
   ],
   "outputs": [],
   "metadata": {}
  },
  {
   "cell_type": "code",
   "execution_count": 26,
   "source": [
    "def prepare_data(train_data, test_data, mode):\r\n",
    "    t = Tokenizer(num_words = max_word)\r\n",
    "    t.fit_on_texts(train_data)\r\n",
    "    x_train = t.texts_to_matrix(train_data, mode = mode)\r\n",
    "    x_test = t.texts_to_matrix(test_data, mode = mode)\r\n",
    "\r\n",
    "    return x_train, x_test, t.index_word"
   ],
   "outputs": [],
   "metadata": {}
  },
  {
   "cell_type": "code",
   "execution_count": 28,
   "source": [
    "x_train, x_test, index_to_word = prepare_data(train_email, test_email, 'binary')\r\n",
    "y_train = to_categorical(train_label)\r\n",
    "y_test = to_categorical(test_label)"
   ],
   "outputs": [],
   "metadata": {}
  },
  {
   "cell_type": "code",
   "execution_count": 29,
   "source": [
    "print('train sample size : {}'.format(x_train.shape))\r\n",
    "print('test sample size : {}'.format(x_test.shape))\r\n",
    "print('train label size : {}'.format(y_train.shape))\r\n",
    "print('test label size : {}'.format(y_test.shape))"
   ],
   "outputs": [
    {
     "output_type": "stream",
     "name": "stdout",
     "text": [
      "train sample size : (11314, 10000)\n",
      "test sample size : (7532, 10000)\n",
      "train label size : (11314, 20)\n",
      "test label size : (7532, 20)\n"
     ]
    }
   ],
   "metadata": {}
  },
  {
   "cell_type": "code",
   "execution_count": 30,
   "source": [
    "from tensorflow.keras.models import Sequential\r\n",
    "from tensorflow.keras.layers import Dense, Dropout"
   ],
   "outputs": [],
   "metadata": {}
  },
  {
   "cell_type": "code",
   "execution_count": 31,
   "source": [
    "def fit_and_evaluate(x_train, y_train, x_test, y_test):\r\n",
    "    model = Sequential()\r\n",
    "    model.add(Dense(256, input_shape = (max_word,), activation= 'relu'))\r\n",
    "    model.add(Dropout(0.5))\r\n",
    "    model.add(Dense(128, activation = 'relu'))\r\n",
    "    model.add(Dropout(0.5))\r\n",
    "    model.add(Dense(num_classes, activation = 'softmax'))\r\n",
    "    \r\n",
    "    model.compile(loss = 'categorical_crossentropy', optimizer = 'adam', metrics = ['acc'])\r\n",
    "    model.fit(x_train, y_train, batch_size = 128, epochs = 5, verbose = 1, validation_split = 0.1)\r\n",
    "    score = model.evaluate(x_test, y_test, batch_size = 128, verbose = 0)\r\n",
    "    return score[1]"
   ],
   "outputs": [],
   "metadata": {}
  },
  {
   "cell_type": "code",
   "execution_count": 34,
   "source": [
    "modes = ['binary', 'count', 'tfidf', 'freq']\r\n",
    "\r\n",
    "for mode in modes:\r\n",
    "    x_train, x_test, _ = prepare_data(train_email, test_email, mode)\r\n",
    "    score = fit_and_evaluate(x_train, y_train, x_test, y_test)\r\n",
    "    print(mode + ' 모드의 테스트 정확도 : {}'.format(score))"
   ],
   "outputs": [
    {
     "output_type": "stream",
     "name": "stdout",
     "text": [
      "Epoch 1/5\n",
      "80/80 [==============================] - 3s 23ms/step - loss: 2.2517 - acc: 0.3473 - val_loss: 0.9424 - val_acc: 0.8216\n",
      "Epoch 2/5\n",
      "80/80 [==============================] - 2s 20ms/step - loss: 0.8426 - acc: 0.7676 - val_loss: 0.4566 - val_acc: 0.8843\n",
      "Epoch 3/5\n",
      "80/80 [==============================] - 2s 22ms/step - loss: 0.4392 - acc: 0.8830 - val_loss: 0.3608 - val_acc: 0.8984\n",
      "Epoch 4/5\n",
      "80/80 [==============================] - 2s 24ms/step - loss: 0.2684 - acc: 0.9320 - val_loss: 0.3112 - val_acc: 0.9081\n",
      "Epoch 5/5\n",
      "80/80 [==============================] - 2s 24ms/step - loss: 0.1763 - acc: 0.9568 - val_loss: 0.3116 - val_acc: 0.9055\n",
      "binary 모드의 테스트 정확도 : 0.8272703289985657\n",
      "Epoch 1/5\n",
      "80/80 [==============================] - 4s 27ms/step - loss: 2.8652 - acc: 0.2213 - val_loss: 1.7672 - val_acc: 0.7032\n",
      "Epoch 2/5\n",
      "80/80 [==============================] - 2s 24ms/step - loss: 1.5238 - acc: 0.6072 - val_loss: 0.7569 - val_acc: 0.8472\n",
      "Epoch 3/5\n",
      "80/80 [==============================] - 2s 24ms/step - loss: 0.8498 - acc: 0.7915 - val_loss: 0.5358 - val_acc: 0.8754\n",
      "Epoch 4/5\n",
      "80/80 [==============================] - 2s 24ms/step - loss: 0.5550 - acc: 0.8684 - val_loss: 0.4436 - val_acc: 0.8993\n",
      "Epoch 5/5\n",
      "80/80 [==============================] - 2s 24ms/step - loss: 0.3944 - acc: 0.9061 - val_loss: 0.4115 - val_acc: 0.9046\n",
      "count 모드의 테스트 정확도 : 0.8220924139022827\n",
      "Epoch 1/5\n",
      "80/80 [==============================] - 3s 27ms/step - loss: 2.2059 - acc: 0.3597 - val_loss: 0.7325 - val_acc: 0.8481\n",
      "Epoch 2/5\n",
      "80/80 [==============================] - 2s 24ms/step - loss: 0.8068 - acc: 0.7815 - val_loss: 0.4131 - val_acc: 0.8940\n",
      "Epoch 3/5\n",
      "80/80 [==============================] - 2s 23ms/step - loss: 0.4652 - acc: 0.8839 - val_loss: 0.3719 - val_acc: 0.9055\n",
      "Epoch 4/5\n",
      "80/80 [==============================] - 2s 23ms/step - loss: 0.3108 - acc: 0.9267 - val_loss: 0.3795 - val_acc: 0.9099\n",
      "Epoch 5/5\n",
      "80/80 [==============================] - 2s 24ms/step - loss: 0.2343 - acc: 0.9490 - val_loss: 0.3205 - val_acc: 0.9125\n",
      "tfidf 모드의 테스트 정확도 : 0.8313860893249512\n",
      "Epoch 1/5\n",
      "80/80 [==============================] - 3s 26ms/step - loss: 2.9783 - acc: 0.0924 - val_loss: 2.9305 - val_acc: 0.2120\n",
      "Epoch 2/5\n",
      "80/80 [==============================] - 2s 24ms/step - loss: 2.7404 - acc: 0.2068 - val_loss: 2.4296 - val_acc: 0.3693\n",
      "Epoch 3/5\n",
      "80/80 [==============================] - 2s 23ms/step - loss: 2.2007 - acc: 0.3241 - val_loss: 1.8893 - val_acc: 0.5433\n",
      "Epoch 4/5\n",
      "80/80 [==============================] - 2s 24ms/step - loss: 1.7587 - acc: 0.4566 - val_loss: 1.5017 - val_acc: 0.6528\n",
      "Epoch 5/5\n",
      "80/80 [==============================] - 2s 23ms/step - loss: 1.3969 - acc: 0.5779 - val_loss: 1.1901 - val_acc: 0.7244\n",
      "freq 모드의 테스트 정확도 : 0.6733935475349426\n"
     ]
    }
   ],
   "metadata": {}
  },
  {
   "cell_type": "code",
   "execution_count": 35,
   "source": [
    "import numpy as np\r\n",
    "from tensorflow.keras.layers import SimpleRNN, LSTM, Bidirectional\r\n"
   ],
   "outputs": [],
   "metadata": {}
  },
  {
   "cell_type": "code",
   "execution_count": 36,
   "source": [
    "train_x = [[0.1, 4.2, 1.5, 1.1, 2.8], [1.0, 3.1, 2.5, 0.7, 1.1], [0.3, 2.1, 1.5, 2.1, 0.1], [2.2, 1.4, 0.5, 0.9, 1.1]]\r\n",
    "print(np.shape(train_x))"
   ],
   "outputs": [
    {
     "output_type": "stream",
     "name": "stdout",
     "text": [
      "(4, 5)\n"
     ]
    }
   ],
   "metadata": {}
  },
  {
   "cell_type": "code",
   "execution_count": 37,
   "source": [
    "train_x = [train_x]\r\n",
    "train_x = np.array(train_x, dtype = np.float32)\r\n",
    "print(train_x.shape)"
   ],
   "outputs": [
    {
     "output_type": "stream",
     "name": "stdout",
     "text": [
      "(1, 4, 5)\n"
     ]
    }
   ],
   "metadata": {}
  },
  {
   "cell_type": "code",
   "execution_count": 38,
   "source": [
    "rnn = SimpleRNN(3)\r\n",
    "hidden_state = rnn(train_x)\r\n",
    "print('hidden state :{}, shape : {}'.format(hidden_state, hidden_state.shape))"
   ],
   "outputs": [
    {
     "output_type": "stream",
     "name": "stdout",
     "text": [
      "hidden state :[[ 0.86186093 -0.55154276  0.9986222 ]], shape : (1, 3)\n"
     ]
    }
   ],
   "metadata": {}
  },
  {
   "cell_type": "code",
   "execution_count": 39,
   "source": [
    "rnn = SimpleRNN(3, return_sequences=True)\r\n",
    "hidden_state = rnn(train_x)\r\n",
    "\r\n",
    "print('hidden state : {}, shape : {}'.format(hidden_state, hidden_state.shape))"
   ],
   "outputs": [
    {
     "output_type": "stream",
     "name": "stdout",
     "text": [
      "hidden state : [[[-0.9951869   0.99402773  0.31996372]\n",
      "  [-0.9911536   0.9920929  -0.55236167]\n",
      "  [-0.9578821   0.9558894   0.79862297]\n",
      "  [-0.9938752   0.9621945   0.5863987 ]]], shape : (1, 4, 3)\n"
     ]
    }
   ],
   "metadata": {}
  },
  {
   "cell_type": "code",
   "execution_count": 40,
   "source": [
    "import pandas as pd\r\n",
    "from string import punctuation\r\n",
    "from tensorflow.keras.preprocessing.text import Tokenizer\r\n",
    "from tensorflow.keras.preprocessing.sequence import pad_sequences\r\n",
    "import numpy as np\r\n",
    "from tensorflow.keras.utils import to_categorical"
   ],
   "outputs": [],
   "metadata": {}
  },
  {
   "cell_type": "code",
   "execution_count": 41,
   "source": [
    "df = pd.read_csv('C:/Users/Windows10/Desktop/코딩/data/newyorktimes/ArticlesApril2018.csv')\r\n",
    "df.head()"
   ],
   "outputs": [
    {
     "output_type": "execute_result",
     "data": {
      "text/html": [
       "<div>\n",
       "<style scoped>\n",
       "    .dataframe tbody tr th:only-of-type {\n",
       "        vertical-align: middle;\n",
       "    }\n",
       "\n",
       "    .dataframe tbody tr th {\n",
       "        vertical-align: top;\n",
       "    }\n",
       "\n",
       "    .dataframe thead th {\n",
       "        text-align: right;\n",
       "    }\n",
       "</style>\n",
       "<table border=\"1\" class=\"dataframe\">\n",
       "  <thead>\n",
       "    <tr style=\"text-align: right;\">\n",
       "      <th></th>\n",
       "      <th>articleID</th>\n",
       "      <th>articleWordCount</th>\n",
       "      <th>byline</th>\n",
       "      <th>documentType</th>\n",
       "      <th>headline</th>\n",
       "      <th>keywords</th>\n",
       "      <th>multimedia</th>\n",
       "      <th>newDesk</th>\n",
       "      <th>printPage</th>\n",
       "      <th>pubDate</th>\n",
       "      <th>sectionName</th>\n",
       "      <th>snippet</th>\n",
       "      <th>source</th>\n",
       "      <th>typeOfMaterial</th>\n",
       "      <th>webURL</th>\n",
       "    </tr>\n",
       "  </thead>\n",
       "  <tbody>\n",
       "    <tr>\n",
       "      <th>0</th>\n",
       "      <td>5adf6684068401528a2aa69b</td>\n",
       "      <td>781</td>\n",
       "      <td>By JOHN BRANCH</td>\n",
       "      <td>article</td>\n",
       "      <td>Former N.F.L. Cheerleaders’ Settlement Offer: ...</td>\n",
       "      <td>['Workplace Hazards and Violations', 'Football...</td>\n",
       "      <td>68</td>\n",
       "      <td>Sports</td>\n",
       "      <td>0</td>\n",
       "      <td>2018-04-24 17:16:49</td>\n",
       "      <td>Pro Football</td>\n",
       "      <td>“I understand that they could meet with us, pa...</td>\n",
       "      <td>The New York Times</td>\n",
       "      <td>News</td>\n",
       "      <td>https://www.nytimes.com/2018/04/24/sports/foot...</td>\n",
       "    </tr>\n",
       "    <tr>\n",
       "      <th>1</th>\n",
       "      <td>5adf653f068401528a2aa697</td>\n",
       "      <td>656</td>\n",
       "      <td>By LISA FRIEDMAN</td>\n",
       "      <td>article</td>\n",
       "      <td>E.P.A. to Unveil a New Rule. Its Effect: Less ...</td>\n",
       "      <td>['Environmental Protection Agency', 'Pruitt, S...</td>\n",
       "      <td>68</td>\n",
       "      <td>Climate</td>\n",
       "      <td>0</td>\n",
       "      <td>2018-04-24 17:11:21</td>\n",
       "      <td>Unknown</td>\n",
       "      <td>The agency plans to publish a new regulation T...</td>\n",
       "      <td>The New York Times</td>\n",
       "      <td>News</td>\n",
       "      <td>https://www.nytimes.com/2018/04/24/climate/epa...</td>\n",
       "    </tr>\n",
       "    <tr>\n",
       "      <th>2</th>\n",
       "      <td>5adf4626068401528a2aa628</td>\n",
       "      <td>2427</td>\n",
       "      <td>By PETE WELLS</td>\n",
       "      <td>article</td>\n",
       "      <td>The New Noma, Explained</td>\n",
       "      <td>['Restaurants', 'Noma (Copenhagen, Restaurant)...</td>\n",
       "      <td>66</td>\n",
       "      <td>Dining</td>\n",
       "      <td>0</td>\n",
       "      <td>2018-04-24 14:58:44</td>\n",
       "      <td>Unknown</td>\n",
       "      <td>What’s it like to eat at the second incarnatio...</td>\n",
       "      <td>The New York Times</td>\n",
       "      <td>News</td>\n",
       "      <td>https://www.nytimes.com/2018/04/24/dining/noma...</td>\n",
       "    </tr>\n",
       "    <tr>\n",
       "      <th>3</th>\n",
       "      <td>5adf40d2068401528a2aa619</td>\n",
       "      <td>626</td>\n",
       "      <td>By JULIE HIRSCHFELD DAVIS and PETER BAKER</td>\n",
       "      <td>article</td>\n",
       "      <td>Unknown</td>\n",
       "      <td>['Macron, Emmanuel (1977- )', 'Trump, Donald J...</td>\n",
       "      <td>68</td>\n",
       "      <td>Washington</td>\n",
       "      <td>0</td>\n",
       "      <td>2018-04-24 14:35:57</td>\n",
       "      <td>Europe</td>\n",
       "      <td>President Trump welcomed President Emmanuel Ma...</td>\n",
       "      <td>The New York Times</td>\n",
       "      <td>News</td>\n",
       "      <td>https://www.nytimes.com/2018/04/24/world/europ...</td>\n",
       "    </tr>\n",
       "    <tr>\n",
       "      <th>4</th>\n",
       "      <td>5adf3d64068401528a2aa60f</td>\n",
       "      <td>815</td>\n",
       "      <td>By IAN AUSTEN and DAN BILEFSKY</td>\n",
       "      <td>article</td>\n",
       "      <td>Unknown</td>\n",
       "      <td>['Toronto, Ontario, Attack (April, 2018)', 'Mu...</td>\n",
       "      <td>68</td>\n",
       "      <td>Foreign</td>\n",
       "      <td>0</td>\n",
       "      <td>2018-04-24 14:21:21</td>\n",
       "      <td>Canada</td>\n",
       "      <td>Alek Minassian, 25, a resident of Toronto’s Ri...</td>\n",
       "      <td>The New York Times</td>\n",
       "      <td>News</td>\n",
       "      <td>https://www.nytimes.com/2018/04/24/world/canad...</td>\n",
       "    </tr>\n",
       "  </tbody>\n",
       "</table>\n",
       "</div>"
      ],
      "text/plain": [
       "                  articleID  articleWordCount  \\\n",
       "0  5adf6684068401528a2aa69b               781   \n",
       "1  5adf653f068401528a2aa697               656   \n",
       "2  5adf4626068401528a2aa628              2427   \n",
       "3  5adf40d2068401528a2aa619               626   \n",
       "4  5adf3d64068401528a2aa60f               815   \n",
       "\n",
       "                                      byline documentType  \\\n",
       "0                             By JOHN BRANCH      article   \n",
       "1                           By LISA FRIEDMAN      article   \n",
       "2                              By PETE WELLS      article   \n",
       "3  By JULIE HIRSCHFELD DAVIS and PETER BAKER      article   \n",
       "4             By IAN AUSTEN and DAN BILEFSKY      article   \n",
       "\n",
       "                                            headline  \\\n",
       "0  Former N.F.L. Cheerleaders’ Settlement Offer: ...   \n",
       "1  E.P.A. to Unveil a New Rule. Its Effect: Less ...   \n",
       "2                            The New Noma, Explained   \n",
       "3                                            Unknown   \n",
       "4                                            Unknown   \n",
       "\n",
       "                                            keywords  multimedia     newDesk  \\\n",
       "0  ['Workplace Hazards and Violations', 'Football...          68      Sports   \n",
       "1  ['Environmental Protection Agency', 'Pruitt, S...          68     Climate   \n",
       "2  ['Restaurants', 'Noma (Copenhagen, Restaurant)...          66      Dining   \n",
       "3  ['Macron, Emmanuel (1977- )', 'Trump, Donald J...          68  Washington   \n",
       "4  ['Toronto, Ontario, Attack (April, 2018)', 'Mu...          68     Foreign   \n",
       "\n",
       "   printPage              pubDate   sectionName  \\\n",
       "0          0  2018-04-24 17:16:49  Pro Football   \n",
       "1          0  2018-04-24 17:11:21       Unknown   \n",
       "2          0  2018-04-24 14:58:44       Unknown   \n",
       "3          0  2018-04-24 14:35:57        Europe   \n",
       "4          0  2018-04-24 14:21:21        Canada   \n",
       "\n",
       "                                             snippet              source  \\\n",
       "0  “I understand that they could meet with us, pa...  The New York Times   \n",
       "1  The agency plans to publish a new regulation T...  The New York Times   \n",
       "2  What’s it like to eat at the second incarnatio...  The New York Times   \n",
       "3  President Trump welcomed President Emmanuel Ma...  The New York Times   \n",
       "4  Alek Minassian, 25, a resident of Toronto’s Ri...  The New York Times   \n",
       "\n",
       "  typeOfMaterial                                             webURL  \n",
       "0           News  https://www.nytimes.com/2018/04/24/sports/foot...  \n",
       "1           News  https://www.nytimes.com/2018/04/24/climate/epa...  \n",
       "2           News  https://www.nytimes.com/2018/04/24/dining/noma...  \n",
       "3           News  https://www.nytimes.com/2018/04/24/world/europ...  \n",
       "4           News  https://www.nytimes.com/2018/04/24/world/canad...  "
      ]
     },
     "metadata": {},
     "execution_count": 41
    }
   ],
   "metadata": {}
  },
  {
   "cell_type": "code",
   "execution_count": 42,
   "source": [
    "print('열의 개수 :', len(df.columns))"
   ],
   "outputs": [
    {
     "output_type": "stream",
     "name": "stdout",
     "text": [
      "열의 개수 : 15\n"
     ]
    }
   ],
   "metadata": {}
  },
  {
   "cell_type": "code",
   "execution_count": 43,
   "source": [
    "df['headline'].isnull().values.any()"
   ],
   "outputs": [
    {
     "output_type": "execute_result",
     "data": {
      "text/plain": [
       "False"
      ]
     },
     "metadata": {},
     "execution_count": 43
    }
   ],
   "metadata": {}
  },
  {
   "cell_type": "code",
   "execution_count": 44,
   "source": [
    "headline = []\r\n",
    "headline.extend(list(df.headline.values))\r\n",
    "headline[:5]"
   ],
   "outputs": [
    {
     "output_type": "execute_result",
     "data": {
      "text/plain": [
       "['Former N.F.L. Cheerleaders’ Settlement Offer: $1 and a Meeting With Goodell',\n",
       " 'E.P.A. to Unveil a New Rule. Its Effect: Less Science in Policymaking.',\n",
       " 'The New Noma, Explained',\n",
       " 'Unknown',\n",
       " 'Unknown']"
      ]
     },
     "metadata": {},
     "execution_count": 44
    }
   ],
   "metadata": {}
  },
  {
   "cell_type": "code",
   "execution_count": 45,
   "source": [
    "print('all samples : {}'.format(len(headline)))"
   ],
   "outputs": [
    {
     "output_type": "stream",
     "name": "stdout",
     "text": [
      "all samples : 1324\n"
     ]
    }
   ],
   "metadata": {}
  },
  {
   "cell_type": "code",
   "execution_count": 46,
   "source": [
    "headline = [n for n in headline if n != 'Unknown']\r\n",
    "print('number of samples after delete \"Unknown\" : {}'.format(len(headline)))"
   ],
   "outputs": [
    {
     "output_type": "stream",
     "name": "stdout",
     "text": [
      "number of samples after delete \"Unknown\" : 1214\n"
     ]
    }
   ],
   "metadata": {}
  },
  {
   "cell_type": "code",
   "execution_count": 47,
   "source": [
    "headline[:5]"
   ],
   "outputs": [
    {
     "output_type": "execute_result",
     "data": {
      "text/plain": [
       "['Former N.F.L. Cheerleaders’ Settlement Offer: $1 and a Meeting With Goodell',\n",
       " 'E.P.A. to Unveil a New Rule. Its Effect: Less Science in Policymaking.',\n",
       " 'The New Noma, Explained',\n",
       " 'How a Bag of Texas Dirt  Became a Times Tradition',\n",
       " 'Is School a Place for Self-Expression?']"
      ]
     },
     "metadata": {},
     "execution_count": 47
    }
   ],
   "metadata": {}
  },
  {
   "cell_type": "code",
   "execution_count": 48,
   "source": [
    "def repreprocessing(s):\r\n",
    "    s = s.encode('utf8').decode(\"ascii\", 'ignore')\r\n",
    "    return ''.join(c for c in s if c not in punctuation).lower()\r\n",
    "\r\n",
    "text = [repreprocessing(x) for x in headline]\r\n",
    "text[:5]"
   ],
   "outputs": [
    {
     "output_type": "execute_result",
     "data": {
      "text/plain": [
       "['former nfl cheerleaders settlement offer 1 and a meeting with goodell',\n",
       " 'epa to unveil a new rule its effect less science in policymaking',\n",
       " 'the new noma explained',\n",
       " 'how a bag of texas dirt  became a times tradition',\n",
       " 'is school a place for selfexpression']"
      ]
     },
     "metadata": {},
     "execution_count": 48
    }
   ],
   "metadata": {}
  },
  {
   "cell_type": "code",
   "execution_count": 49,
   "source": [
    "t = Tokenizer()\r\n",
    "t.fit_on_texts(text)\r\n",
    "vocab_size = len(t.word_index) + 1\r\n",
    "print('단어 집합의 크기 : {}'.format(vocab_size))"
   ],
   "outputs": [
    {
     "output_type": "stream",
     "name": "stdout",
     "text": [
      "단어 집합의 크기 : 3494\n"
     ]
    }
   ],
   "metadata": {}
  },
  {
   "cell_type": "code",
   "execution_count": 50,
   "source": [
    "sequences = []\r\n",
    "\r\n",
    "for line in text:\r\n",
    "    encoded = t.texts_to_sequences([line])[0]\r\n",
    "    for i in range(1, len(encoded)):\r\n",
    "        sequence = encoded[:i+1]\r\n",
    "        sequences.append(sequence)\r\n",
    "\r\n",
    "sequences[:11]"
   ],
   "outputs": [
    {
     "output_type": "execute_result",
     "data": {
      "text/plain": [
       "[[99, 269],\n",
       " [99, 269, 371],\n",
       " [99, 269, 371, 1115],\n",
       " [99, 269, 371, 1115, 582],\n",
       " [99, 269, 371, 1115, 582, 52],\n",
       " [99, 269, 371, 1115, 582, 52, 7],\n",
       " [99, 269, 371, 1115, 582, 52, 7, 2],\n",
       " [99, 269, 371, 1115, 582, 52, 7, 2, 372],\n",
       " [99, 269, 371, 1115, 582, 52, 7, 2, 372, 10],\n",
       " [99, 269, 371, 1115, 582, 52, 7, 2, 372, 10, 1116],\n",
       " [100, 3]]"
      ]
     },
     "metadata": {},
     "execution_count": 50
    }
   ],
   "metadata": {}
  },
  {
   "cell_type": "code",
   "execution_count": 51,
   "source": [
    "index_to_word = {}\r\n",
    "for key, value in t.word_index.items():\r\n",
    "    index_to_word[value] = key\r\n",
    "\r\n",
    "\r\n",
    "print('빈도수 상위 582번 단어 : {}'.format(index_to_word[582]))"
   ],
   "outputs": [
    {
     "output_type": "stream",
     "name": "stdout",
     "text": [
      "빈도수 상위 582번 단어 : offer\n"
     ]
    }
   ],
   "metadata": {}
  },
  {
   "cell_type": "code",
   "execution_count": 52,
   "source": [
    "max_len = max(len(l)for l in sequences)\r\n",
    "print('샘플의 최대 길이 : {}'.format(max_len))"
   ],
   "outputs": [
    {
     "output_type": "stream",
     "name": "stdout",
     "text": [
      "샘플의 최대 길이 : 24\n"
     ]
    }
   ],
   "metadata": {}
  },
  {
   "cell_type": "code",
   "execution_count": 53,
   "source": [
    "sequences = pad_sequences(sequences, maxlen = max_len, padding = 'pre')\r\n",
    "print(sequences[:3])"
   ],
   "outputs": [
    {
     "output_type": "stream",
     "name": "stdout",
     "text": [
      "[[   0    0    0    0    0    0    0    0    0    0    0    0    0    0\n",
      "     0    0    0    0    0    0    0    0   99  269]\n",
      " [   0    0    0    0    0    0    0    0    0    0    0    0    0    0\n",
      "     0    0    0    0    0    0    0   99  269  371]\n",
      " [   0    0    0    0    0    0    0    0    0    0    0    0    0    0\n",
      "     0    0    0    0    0    0   99  269  371 1115]]\n"
     ]
    }
   ],
   "metadata": {}
  },
  {
   "cell_type": "code",
   "execution_count": 54,
   "source": [
    "sequences = np.array(sequences)\r\n",
    "x = sequences[:, :-1]\r\n",
    "y = sequences[:, -1]"
   ],
   "outputs": [],
   "metadata": {}
  },
  {
   "cell_type": "code",
   "execution_count": 55,
   "source": [
    "print(x[:3])"
   ],
   "outputs": [
    {
     "output_type": "stream",
     "name": "stdout",
     "text": [
      "[[  0   0   0   0   0   0   0   0   0   0   0   0   0   0   0   0   0   0\n",
      "    0   0   0   0  99]\n",
      " [  0   0   0   0   0   0   0   0   0   0   0   0   0   0   0   0   0   0\n",
      "    0   0   0  99 269]\n",
      " [  0   0   0   0   0   0   0   0   0   0   0   0   0   0   0   0   0   0\n",
      "    0   0  99 269 371]]\n"
     ]
    }
   ],
   "metadata": {}
  },
  {
   "cell_type": "code",
   "execution_count": 56,
   "source": [
    "y[:3]"
   ],
   "outputs": [
    {
     "output_type": "execute_result",
     "data": {
      "text/plain": [
       "array([ 269,  371, 1115])"
      ]
     },
     "metadata": {},
     "execution_count": 56
    }
   ],
   "metadata": {}
  },
  {
   "cell_type": "code",
   "execution_count": 57,
   "source": [
    "y = to_categorical(y, num_classes= vocab_size)"
   ],
   "outputs": [],
   "metadata": {}
  },
  {
   "cell_type": "code",
   "execution_count": 58,
   "source": [
    "from tensorflow.keras.models import Sequential\r\n",
    "from tensorflow.keras.layers import Embedding, Dense, LSTM"
   ],
   "outputs": [],
   "metadata": {}
  },
  {
   "cell_type": "code",
   "execution_count": 59,
   "source": [
    "model = Sequential()\r\n",
    "model.add(Embedding(vocab_size, 10, input_length= max_len))\r\n",
    "model.add(LSTM(128))\r\n",
    "model.add(Dense(vocab_size, activation = 'softmax'))\r\n",
    "model.compile(loss = 'categorical_crossentropy', optimizer = 'adam', metrics = ['acc'])\r\n",
    "model.fit(x, y, epochs = 200, verbose = 2)"
   ],
   "outputs": [
    {
     "output_type": "stream",
     "name": "stdout",
     "text": [
      "Epoch 1/200\n",
      "WARNING:tensorflow:Model was constructed with shape (None, 24) for input KerasTensor(type_spec=TensorSpec(shape=(None, 24), dtype=tf.float32, name='embedding_input'), name='embedding_input', description=\"created by layer 'embedding_input'\"), but it was called on an input with incompatible shape (None, 23).\n",
      "WARNING:tensorflow:Model was constructed with shape (None, 24) for input KerasTensor(type_spec=TensorSpec(shape=(None, 24), dtype=tf.float32, name='embedding_input'), name='embedding_input', description=\"created by layer 'embedding_input'\"), but it was called on an input with incompatible shape (None, 23).\n",
      "244/244 - 7s - loss: 7.6359 - acc: 0.0302\n",
      "Epoch 2/200\n",
      "244/244 - 4s - loss: 7.1186 - acc: 0.0308\n",
      "Epoch 3/200\n",
      "244/244 - 5s - loss: 6.9772 - acc: 0.0360\n",
      "Epoch 4/200\n",
      "244/244 - 5s - loss: 6.8528 - acc: 0.0400\n",
      "Epoch 5/200\n",
      "244/244 - 5s - loss: 6.7049 - acc: 0.0418\n",
      "Epoch 6/200\n",
      "244/244 - 5s - loss: 6.5350 - acc: 0.0432\n",
      "Epoch 7/200\n",
      "244/244 - 5s - loss: 6.3404 - acc: 0.0514\n",
      "Epoch 8/200\n",
      "244/244 - 5s - loss: 6.1496 - acc: 0.0555\n",
      "Epoch 9/200\n",
      "244/244 - 5s - loss: 5.9593 - acc: 0.0620\n",
      "Epoch 10/200\n",
      "244/244 - 5s - loss: 5.7749 - acc: 0.0624\n",
      "Epoch 11/200\n",
      "244/244 - 5s - loss: 5.5968 - acc: 0.0692\n",
      "Epoch 12/200\n",
      "244/244 - 5s - loss: 5.4272 - acc: 0.0770\n",
      "Epoch 13/200\n",
      "244/244 - 6s - loss: 5.2671 - acc: 0.0795\n",
      "Epoch 14/200\n",
      "244/244 - 5s - loss: 5.1126 - acc: 0.0852\n",
      "Epoch 15/200\n",
      "244/244 - 5s - loss: 4.9676 - acc: 0.0966\n",
      "Epoch 16/200\n",
      "244/244 - 5s - loss: 4.8256 - acc: 0.1087\n",
      "Epoch 17/200\n",
      "244/244 - 7s - loss: 4.6920 - acc: 0.1184\n",
      "Epoch 18/200\n",
      "244/244 - 6s - loss: 4.5608 - acc: 0.1341\n",
      "Epoch 19/200\n",
      "244/244 - 5s - loss: 4.4372 - acc: 0.1465\n",
      "Epoch 20/200\n",
      "244/244 - 5s - loss: 4.3171 - acc: 0.1631\n",
      "Epoch 21/200\n",
      "244/244 - 5s - loss: 4.1971 - acc: 0.1765\n",
      "Epoch 22/200\n",
      "244/244 - 5s - loss: 4.0857 - acc: 0.1913\n",
      "Epoch 23/200\n",
      "244/244 - 5s - loss: 3.9768 - acc: 0.2152\n",
      "Epoch 24/200\n",
      "244/244 - 4s - loss: 3.8698 - acc: 0.2300\n",
      "Epoch 25/200\n",
      "244/244 - 5s - loss: 3.7670 - acc: 0.2496\n",
      "Epoch 26/200\n",
      "244/244 - 5s - loss: 3.6686 - acc: 0.2618\n",
      "Epoch 27/200\n",
      "244/244 - 5s - loss: 3.5732 - acc: 0.2809\n",
      "Epoch 28/200\n",
      "244/244 - 5s - loss: 3.4805 - acc: 0.2960\n",
      "Epoch 29/200\n",
      "244/244 - 6s - loss: 3.3936 - acc: 0.3105\n",
      "Epoch 30/200\n",
      "244/244 - 7s - loss: 3.3032 - acc: 0.3303\n",
      "Epoch 31/200\n",
      "244/244 - 5s - loss: 3.2202 - acc: 0.3442\n",
      "Epoch 32/200\n",
      "244/244 - 5s - loss: 3.1406 - acc: 0.3569\n",
      "Epoch 33/200\n",
      "244/244 - 5s - loss: 3.0637 - acc: 0.3676\n",
      "Epoch 34/200\n",
      "244/244 - 4s - loss: 2.9867 - acc: 0.3833\n",
      "Epoch 35/200\n",
      "244/244 - 4s - loss: 2.9141 - acc: 0.4002\n",
      "Epoch 36/200\n",
      "244/244 - 5s - loss: 2.8452 - acc: 0.4180\n",
      "Epoch 37/200\n",
      "244/244 - 5s - loss: 2.7767 - acc: 0.4268\n",
      "Epoch 38/200\n",
      "244/244 - 5s - loss: 2.7106 - acc: 0.4400\n",
      "Epoch 39/200\n",
      "244/244 - 5s - loss: 2.6458 - acc: 0.4547\n",
      "Epoch 40/200\n",
      "244/244 - 6s - loss: 2.5859 - acc: 0.4664\n",
      "Epoch 41/200\n",
      "244/244 - 5s - loss: 2.5255 - acc: 0.4781\n",
      "Epoch 42/200\n",
      "244/244 - 5s - loss: 2.4673 - acc: 0.4898\n",
      "Epoch 43/200\n",
      "244/244 - 4s - loss: 2.4082 - acc: 0.5056\n",
      "Epoch 44/200\n",
      "244/244 - 5s - loss: 2.3543 - acc: 0.5124\n",
      "Epoch 45/200\n",
      "244/244 - 4s - loss: 2.3002 - acc: 0.5288\n",
      "Epoch 46/200\n",
      "244/244 - 4s - loss: 2.2479 - acc: 0.5349\n",
      "Epoch 47/200\n",
      "244/244 - 5s - loss: 2.1959 - acc: 0.5462\n",
      "Epoch 48/200\n",
      "244/244 - 4s - loss: 2.1451 - acc: 0.5565\n",
      "Epoch 49/200\n",
      "244/244 - 4s - loss: 2.0971 - acc: 0.5664\n",
      "Epoch 50/200\n",
      "244/244 - 4s - loss: 2.0487 - acc: 0.5744\n",
      "Epoch 51/200\n",
      "244/244 - 4s - loss: 2.0023 - acc: 0.5890\n",
      "Epoch 52/200\n",
      "244/244 - 4s - loss: 1.9567 - acc: 0.5941\n",
      "Epoch 53/200\n",
      "244/244 - 5s - loss: 1.9109 - acc: 0.6060\n",
      "Epoch 54/200\n",
      "244/244 - 5s - loss: 1.8691 - acc: 0.6169\n",
      "Epoch 55/200\n",
      "244/244 - 5s - loss: 1.8244 - acc: 0.6251\n",
      "Epoch 56/200\n",
      "244/244 - 4s - loss: 1.7814 - acc: 0.6298\n",
      "Epoch 57/200\n",
      "244/244 - 5s - loss: 1.7403 - acc: 0.6448\n",
      "Epoch 58/200\n",
      "244/244 - 5s - loss: 1.6988 - acc: 0.6526\n",
      "Epoch 59/200\n",
      "244/244 - 5s - loss: 1.6590 - acc: 0.6644\n",
      "Epoch 60/200\n",
      "244/244 - 5s - loss: 1.6219 - acc: 0.6697\n",
      "Epoch 61/200\n",
      "244/244 - 5s - loss: 1.5837 - acc: 0.6806\n",
      "Epoch 62/200\n",
      "244/244 - 5s - loss: 1.5470 - acc: 0.6897\n",
      "Epoch 63/200\n",
      "244/244 - 5s - loss: 1.5106 - acc: 0.6937\n",
      "Epoch 64/200\n",
      "244/244 - 5s - loss: 1.4771 - acc: 0.7029\n",
      "Epoch 65/200\n",
      "244/244 - 4s - loss: 1.4443 - acc: 0.7074\n",
      "Epoch 66/200\n",
      "244/244 - 4s - loss: 1.4087 - acc: 0.7175\n",
      "Epoch 67/200\n",
      "244/244 - 4s - loss: 1.3736 - acc: 0.7229\n",
      "Epoch 68/200\n",
      "244/244 - 4s - loss: 1.3430 - acc: 0.7279\n",
      "Epoch 69/200\n",
      "244/244 - 5s - loss: 1.3112 - acc: 0.7398\n",
      "Epoch 70/200\n",
      "244/244 - 4s - loss: 1.2788 - acc: 0.7436\n",
      "Epoch 71/200\n",
      "244/244 - 5s - loss: 1.2507 - acc: 0.7491\n",
      "Epoch 72/200\n",
      "244/244 - 5s - loss: 1.2202 - acc: 0.7571\n",
      "Epoch 73/200\n",
      "244/244 - 5s - loss: 1.1909 - acc: 0.7624\n",
      "Epoch 74/200\n",
      "244/244 - 5s - loss: 1.1639 - acc: 0.7669\n",
      "Epoch 75/200\n",
      "244/244 - 4s - loss: 1.1376 - acc: 0.7734\n",
      "Epoch 76/200\n",
      "244/244 - 5s - loss: 1.1075 - acc: 0.7802\n",
      "Epoch 77/200\n",
      "244/244 - 4s - loss: 1.0819 - acc: 0.7821\n",
      "Epoch 78/200\n",
      "244/244 - 5s - loss: 1.0579 - acc: 0.7915\n",
      "Epoch 79/200\n",
      "244/244 - 4s - loss: 1.0313 - acc: 0.7942\n",
      "Epoch 80/200\n",
      "244/244 - 5s - loss: 1.0082 - acc: 0.7992\n",
      "Epoch 81/200\n",
      "244/244 - 4s - loss: 0.9843 - acc: 0.8048\n",
      "Epoch 82/200\n",
      "244/244 - 4s - loss: 0.9581 - acc: 0.8139\n",
      "Epoch 83/200\n",
      "244/244 - 5s - loss: 0.9367 - acc: 0.8171\n",
      "Epoch 84/200\n",
      "244/244 - 5s - loss: 0.9147 - acc: 0.8216\n",
      "Epoch 85/200\n",
      "244/244 - 5s - loss: 0.8933 - acc: 0.8243\n",
      "Epoch 86/200\n",
      "244/244 - 5s - loss: 0.8735 - acc: 0.8290\n",
      "Epoch 87/200\n",
      "244/244 - 5s - loss: 0.8538 - acc: 0.8319\n",
      "Epoch 88/200\n",
      "244/244 - 5s - loss: 0.8313 - acc: 0.8363\n",
      "Epoch 89/200\n",
      "244/244 - 5s - loss: 0.8123 - acc: 0.8410\n",
      "Epoch 90/200\n",
      "244/244 - 5s - loss: 0.7959 - acc: 0.8429\n",
      "Epoch 91/200\n",
      "244/244 - 5s - loss: 0.7770 - acc: 0.8486\n",
      "Epoch 92/200\n",
      "244/244 - 5s - loss: 0.7595 - acc: 0.8513\n",
      "Epoch 93/200\n",
      "244/244 - 5s - loss: 0.7406 - acc: 0.8568\n",
      "Epoch 94/200\n",
      "244/244 - 5s - loss: 0.7248 - acc: 0.8598\n",
      "Epoch 95/200\n",
      "244/244 - 5s - loss: 0.7110 - acc: 0.8576\n",
      "Epoch 96/200\n",
      "244/244 - 5s - loss: 0.6932 - acc: 0.8653\n",
      "Epoch 97/200\n",
      "244/244 - 5s - loss: 0.6779 - acc: 0.8658\n",
      "Epoch 98/200\n",
      "244/244 - 5s - loss: 0.6598 - acc: 0.8709\n",
      "Epoch 99/200\n",
      "244/244 - 5s - loss: 0.6478 - acc: 0.8733\n",
      "Epoch 100/200\n",
      "244/244 - 5s - loss: 0.6344 - acc: 0.8743\n",
      "Epoch 101/200\n",
      "244/244 - 6s - loss: 0.6219 - acc: 0.8768\n",
      "Epoch 102/200\n",
      "244/244 - 5s - loss: 0.6047 - acc: 0.8793\n",
      "Epoch 103/200\n",
      "244/244 - 5s - loss: 0.5912 - acc: 0.8847\n",
      "Epoch 104/200\n",
      "244/244 - 5s - loss: 0.5795 - acc: 0.8835\n",
      "Epoch 105/200\n",
      "244/244 - 5s - loss: 0.5667 - acc: 0.8886\n",
      "Epoch 106/200\n",
      "244/244 - 5s - loss: 0.5545 - acc: 0.8888\n",
      "Epoch 107/200\n",
      "244/244 - 5s - loss: 0.5436 - acc: 0.8902\n",
      "Epoch 108/200\n",
      "244/244 - 5s - loss: 0.5326 - acc: 0.8923\n",
      "Epoch 109/200\n",
      "244/244 - 5s - loss: 0.5204 - acc: 0.8959\n",
      "Epoch 110/200\n",
      "244/244 - 5s - loss: 0.5108 - acc: 0.8961\n",
      "Epoch 111/200\n",
      "244/244 - 5s - loss: 0.5105 - acc: 0.8945\n",
      "Epoch 112/200\n",
      "244/244 - 5s - loss: 0.4930 - acc: 0.8999\n",
      "Epoch 113/200\n",
      "244/244 - 5s - loss: 0.4796 - acc: 0.8993\n",
      "Epoch 114/200\n",
      "244/244 - 5s - loss: 0.4699 - acc: 0.9002\n",
      "Epoch 115/200\n",
      "244/244 - 5s - loss: 0.4627 - acc: 0.9031\n",
      "Epoch 116/200\n",
      "244/244 - 5s - loss: 0.4535 - acc: 0.9035\n",
      "Epoch 117/200\n",
      "244/244 - 5s - loss: 0.4458 - acc: 0.9053\n",
      "Epoch 118/200\n",
      "244/244 - 5s - loss: 0.4391 - acc: 0.9058\n",
      "Epoch 119/200\n",
      "244/244 - 5s - loss: 0.4286 - acc: 0.9068\n",
      "Epoch 120/200\n",
      "244/244 - 5s - loss: 0.4215 - acc: 0.9088\n",
      "Epoch 121/200\n",
      "244/244 - 5s - loss: 0.4148 - acc: 0.9081\n",
      "Epoch 122/200\n",
      "244/244 - 5s - loss: 0.4087 - acc: 0.9098\n",
      "Epoch 123/200\n",
      "244/244 - 5s - loss: 0.4027 - acc: 0.9079\n",
      "Epoch 124/200\n",
      "244/244 - 5s - loss: 0.3966 - acc: 0.9091\n",
      "Epoch 125/200\n",
      "244/244 - 5s - loss: 0.3907 - acc: 0.9109\n",
      "Epoch 126/200\n",
      "244/244 - 5s - loss: 0.3822 - acc: 0.9113\n",
      "Epoch 127/200\n",
      "244/244 - 5s - loss: 0.3776 - acc: 0.9125\n",
      "Epoch 128/200\n",
      "244/244 - 5s - loss: 0.3714 - acc: 0.9126\n",
      "Epoch 129/200\n",
      "244/244 - 5s - loss: 0.3664 - acc: 0.9141\n",
      "Epoch 130/200\n",
      "244/244 - 5s - loss: 0.3620 - acc: 0.9134\n",
      "Epoch 131/200\n",
      "244/244 - 5s - loss: 0.3582 - acc: 0.9155\n",
      "Epoch 132/200\n",
      "244/244 - 5s - loss: 0.3534 - acc: 0.9148\n",
      "Epoch 133/200\n",
      "244/244 - 5s - loss: 0.3496 - acc: 0.9144\n",
      "Epoch 134/200\n",
      "244/244 - 5s - loss: 0.3456 - acc: 0.9145\n",
      "Epoch 135/200\n",
      "244/244 - 5s - loss: 0.3392 - acc: 0.9175\n",
      "Epoch 136/200\n",
      "244/244 - 5s - loss: 0.3385 - acc: 0.9150\n",
      "Epoch 137/200\n",
      "244/244 - 5s - loss: 0.3341 - acc: 0.9153\n",
      "Epoch 138/200\n",
      "244/244 - 5s - loss: 0.3310 - acc: 0.9148\n",
      "Epoch 139/200\n",
      "244/244 - 5s - loss: 0.3378 - acc: 0.9155\n",
      "Epoch 140/200\n",
      "244/244 - 5s - loss: 0.3379 - acc: 0.9140\n",
      "Epoch 141/200\n",
      "244/244 - 5s - loss: 0.3295 - acc: 0.9140\n",
      "Epoch 142/200\n",
      "244/244 - 5s - loss: 0.3180 - acc: 0.9155\n",
      "Epoch 143/200\n",
      "244/244 - 6s - loss: 0.3132 - acc: 0.9179\n",
      "Epoch 144/200\n",
      "244/244 - 5s - loss: 0.3110 - acc: 0.9189\n",
      "Epoch 145/200\n",
      "244/244 - 5s - loss: 0.3084 - acc: 0.9163\n",
      "Epoch 146/200\n",
      "244/244 - 5s - loss: 0.3074 - acc: 0.9167\n",
      "Epoch 147/200\n",
      "244/244 - 5s - loss: 0.3059 - acc: 0.9170\n",
      "Epoch 148/200\n",
      "244/244 - 5s - loss: 0.3039 - acc: 0.9162\n",
      "Epoch 149/200\n",
      "244/244 - 5s - loss: 0.3014 - acc: 0.9153\n",
      "Epoch 150/200\n",
      "244/244 - 5s - loss: 0.3007 - acc: 0.9162\n",
      "Epoch 151/200\n",
      "244/244 - 5s - loss: 0.2981 - acc: 0.9172\n",
      "Epoch 152/200\n",
      "244/244 - 5s - loss: 0.2982 - acc: 0.9155\n",
      "Epoch 153/200\n",
      "244/244 - 5s - loss: 0.2953 - acc: 0.9155\n",
      "Epoch 154/200\n",
      "244/244 - 5s - loss: 0.2944 - acc: 0.9163\n",
      "Epoch 155/200\n",
      "244/244 - 5s - loss: 0.2994 - acc: 0.9140\n",
      "Epoch 156/200\n",
      "244/244 - 5s - loss: 0.2924 - acc: 0.9179\n",
      "Epoch 157/200\n",
      "244/244 - 5s - loss: 0.2881 - acc: 0.9176\n",
      "Epoch 158/200\n",
      "244/244 - 5s - loss: 0.2883 - acc: 0.9162\n",
      "Epoch 159/200\n",
      "244/244 - 5s - loss: 0.2868 - acc: 0.9177\n",
      "Epoch 160/200\n",
      "244/244 - 5s - loss: 0.2875 - acc: 0.9159\n",
      "Epoch 161/200\n",
      "244/244 - 5s - loss: 0.2891 - acc: 0.9154\n",
      "Epoch 162/200\n",
      "244/244 - 5s - loss: 0.2896 - acc: 0.9154\n",
      "Epoch 163/200\n",
      "244/244 - 5s - loss: 0.2851 - acc: 0.9167\n",
      "Epoch 164/200\n",
      "244/244 - 5s - loss: 0.2853 - acc: 0.9157\n",
      "Epoch 165/200\n",
      "244/244 - 5s - loss: 0.2796 - acc: 0.9153\n",
      "Epoch 166/200\n",
      "244/244 - 5s - loss: 0.2795 - acc: 0.9176\n",
      "Epoch 167/200\n",
      "244/244 - 5s - loss: 0.2792 - acc: 0.9157\n",
      "Epoch 168/200\n",
      "244/244 - 5s - loss: 0.2770 - acc: 0.9164\n",
      "Epoch 169/200\n",
      "244/244 - 5s - loss: 0.2771 - acc: 0.9153\n",
      "Epoch 170/200\n",
      "244/244 - 5s - loss: 0.2761 - acc: 0.9163\n",
      "Epoch 171/200\n",
      "244/244 - 5s - loss: 0.2756 - acc: 0.9154\n",
      "Epoch 172/200\n",
      "244/244 - 5s - loss: 0.2751 - acc: 0.9161\n",
      "Epoch 173/200\n",
      "244/244 - 4s - loss: 0.2741 - acc: 0.9173\n",
      "Epoch 174/200\n",
      "244/244 - 4s - loss: 0.2729 - acc: 0.9166\n",
      "Epoch 175/200\n",
      "244/244 - 5s - loss: 0.2728 - acc: 0.9164\n",
      "Epoch 176/200\n",
      "244/244 - 4s - loss: 0.2777 - acc: 0.9155\n",
      "Epoch 177/200\n",
      "244/244 - 4s - loss: 0.2739 - acc: 0.9179\n",
      "Epoch 178/200\n",
      "244/244 - 4s - loss: 0.2813 - acc: 0.9149\n",
      "Epoch 179/200\n",
      "244/244 - 4s - loss: 0.2964 - acc: 0.9138\n",
      "Epoch 180/200\n",
      "244/244 - 4s - loss: 0.2761 - acc: 0.9166\n",
      "Epoch 181/200\n",
      "244/244 - 4s - loss: 0.2694 - acc: 0.9171\n",
      "Epoch 182/200\n",
      "244/244 - 5s - loss: 0.2674 - acc: 0.9164\n",
      "Epoch 183/200\n",
      "244/244 - 4s - loss: 0.2675 - acc: 0.9175\n",
      "Epoch 184/200\n",
      "244/244 - 5s - loss: 0.2670 - acc: 0.9164\n",
      "Epoch 185/200\n",
      "244/244 - 5s - loss: 0.2667 - acc: 0.9168\n",
      "Epoch 186/200\n",
      "244/244 - 5s - loss: 0.2669 - acc: 0.9152\n",
      "Epoch 187/200\n",
      "244/244 - 5s - loss: 0.2654 - acc: 0.9171\n",
      "Epoch 188/200\n",
      "244/244 - 5s - loss: 0.2660 - acc: 0.9157\n",
      "Epoch 189/200\n",
      "244/244 - 5s - loss: 0.2664 - acc: 0.9153\n",
      "Epoch 190/200\n",
      "244/244 - 4s - loss: 0.2660 - acc: 0.9155\n",
      "Epoch 191/200\n",
      "244/244 - 5s - loss: 0.2649 - acc: 0.9172\n",
      "Epoch 192/200\n",
      "244/244 - 5s - loss: 0.2648 - acc: 0.9168\n",
      "Epoch 193/200\n",
      "244/244 - 4s - loss: 0.2648 - acc: 0.9155\n",
      "Epoch 194/200\n",
      "244/244 - 5s - loss: 0.2644 - acc: 0.9164\n",
      "Epoch 195/200\n",
      "244/244 - 5s - loss: 0.2739 - acc: 0.9143\n",
      "Epoch 196/200\n",
      "244/244 - 5s - loss: 0.3018 - acc: 0.9085\n",
      "Epoch 197/200\n",
      "244/244 - 5s - loss: 0.2693 - acc: 0.9159\n",
      "Epoch 198/200\n",
      "244/244 - 5s - loss: 0.2627 - acc: 0.9164\n",
      "Epoch 199/200\n",
      "244/244 - 4s - loss: 0.2625 - acc: 0.9166\n",
      "Epoch 200/200\n",
      "244/244 - 4s - loss: 0.2612 - acc: 0.9172\n"
     ]
    },
    {
     "output_type": "execute_result",
     "data": {
      "text/plain": [
       "<tensorflow.python.keras.callbacks.History at 0x1e0f5aad880>"
      ]
     },
     "metadata": {},
     "execution_count": 59
    }
   ],
   "metadata": {}
  },
  {
   "cell_type": "code",
   "execution_count": 60,
   "source": [
    "def sentence_generation(model, t, current_word, n):\r\n",
    "    init_word = current_word\r\n",
    "    sentence = ''\r\n",
    "\r\n",
    "    for _ in range(n):\r\n",
    "        encoded = t.texts_to_sequences([current_word])[0]\r\n",
    "        encoded = pad_sequences([encoded], maxlen = max_len, padding = 'pre')\r\n",
    "        result = model.predict_classes(encoded, verbose= 0)\r\n",
    "\r\n",
    "        for word, index in t.word_index.items():\r\n",
    "            if index == result:\r\n",
    "                break\r\n",
    "        current_word = current_word + ' ' + word\r\n",
    "        sentence = sentence + ' ' + word\r\n",
    "    \r\n",
    "    sentence = init_word + sentence\r\n",
    "    return sentence"
   ],
   "outputs": [],
   "metadata": {}
  },
  {
   "cell_type": "code",
   "execution_count": 61,
   "source": [
    "print(sentence_generation(model, t, 'i', 10))"
   ],
   "outputs": [
    {
     "output_type": "stream",
     "name": "stderr",
     "text": [
      "C:\\Users\\Windows10\\anaconda3\\envs\\tf_2.0\\lib\\site-packages\\tensorflow\\python\\keras\\engine\\sequential.py:455: UserWarning: `model.predict_classes()` is deprecated and will be removed after 2021-01-01. Please use instead:* `np.argmax(model.predict(x), axis=-1)`,   if your model does multi-class classification   (e.g. if it uses a `softmax` last-layer activation).* `(model.predict(x) > 0.5).astype(\"int32\")`,   if your model does binary classification   (e.g. if it uses a `sigmoid` last-layer activation).\n",
      "  warnings.warn('`model.predict_classes()` is deprecated and '\n"
     ]
    },
    {
     "output_type": "stream",
     "name": "stdout",
     "text": [
      "i want to be rich and im not sorry pruitts ethics\n"
     ]
    }
   ],
   "metadata": {}
  },
  {
   "cell_type": "code",
   "execution_count": 62,
   "source": [
    "print(sentence_generation(model, t, 'how', 10))"
   ],
   "outputs": [
    {
     "output_type": "stream",
     "name": "stderr",
     "text": [
      "C:\\Users\\Windows10\\anaconda3\\envs\\tf_2.0\\lib\\site-packages\\tensorflow\\python\\keras\\engine\\sequential.py:455: UserWarning: `model.predict_classes()` is deprecated and will be removed after 2021-01-01. Please use instead:* `np.argmax(model.predict(x), axis=-1)`,   if your model does multi-class classification   (e.g. if it uses a `softmax` last-layer activation).* `(model.predict(x) > 0.5).astype(\"int32\")`,   if your model does binary classification   (e.g. if it uses a `sigmoid` last-layer activation).\n",
      "  warnings.warn('`model.predict_classes()` is deprecated and '\n"
     ]
    },
    {
     "output_type": "stream",
     "name": "stdout",
     "text": [
      "how to make a crossword puzzle dream has the church battle\n"
     ]
    }
   ],
   "metadata": {}
  },
  {
   "cell_type": "code",
   "execution_count": 63,
   "source": [
    "print(sentence_generation(model, t, 'war', 100))"
   ],
   "outputs": [
    {
     "output_type": "stream",
     "name": "stderr",
     "text": [
      "C:\\Users\\Windows10\\anaconda3\\envs\\tf_2.0\\lib\\site-packages\\tensorflow\\python\\keras\\engine\\sequential.py:455: UserWarning: `model.predict_classes()` is deprecated and will be removed after 2021-01-01. Please use instead:* `np.argmax(model.predict(x), axis=-1)`,   if your model does multi-class classification   (e.g. if it uses a `softmax` last-layer activation).* `(model.predict(x) > 0.5).astype(\"int32\")`,   if your model does binary classification   (e.g. if it uses a `sigmoid` last-layer activation).\n",
      "  warnings.warn('`model.predict_classes()` is deprecated and '\n"
     ]
    },
    {
     "output_type": "stream",
     "name": "stdout",
     "text": [
      "war metoo should the jokes were using column tackle next losing police up one can can epa about it to kings client law smart free to second reimaginedjurassic classics dying classics dying as megaproblems ethics future student real fix how an was very support for the arabian peninsula real chief us a bear strike spotlight songs songs later megaproblems later means megaproblems secret own others secret gut phone reimaginedjurassic raging gut gut democracy of later reimaginedjurassic from the global thing and home chief been her sell adds become best reimaginedjurassic classics nature and megaproblems reimaginedjurassic classics nature and historyancient history reimaginedjurassic\n"
     ]
    }
   ],
   "metadata": {}
  },
  {
   "cell_type": "code",
   "execution_count": null,
   "source": [],
   "outputs": [],
   "metadata": {}
  }
 ],
 "metadata": {
  "orig_nbformat": 4,
  "language_info": {
   "name": "python",
   "version": "3.8.0",
   "mimetype": "text/x-python",
   "codemirror_mode": {
    "name": "ipython",
    "version": 3
   },
   "pygments_lexer": "ipython3",
   "nbconvert_exporter": "python",
   "file_extension": ".py"
  },
  "kernelspec": {
   "name": "python3",
   "display_name": "Python 3.8.0 64-bit ('tf_2.0': conda)"
  },
  "interpreter": {
   "hash": "dd2cd71f5f8c75eaad6bd95a58485788371a9ea1e55a23237c1542371fc49f1f"
  }
 },
 "nbformat": 4,
 "nbformat_minor": 2
}