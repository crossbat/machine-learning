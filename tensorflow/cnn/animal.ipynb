{
 "cells": [
  {
   "cell_type": "code",
   "execution_count": null,
   "source": [
    "import numpy as np\r\n",
    "import matplotlib.pyplot as plt\r\n",
    "import matplotlib.image as img\r\n",
    "import os\r\n",
    "import tensorflow as tf\r\n",
    "\r\n",
    "from glob import glob\r\n",
    "from tensorflow.keras.preprocessing.image import ho"
   ],
   "outputs": [],
   "metadata": {}
  }
 ],
 "metadata": {
  "orig_nbformat": 4,
  "language_info": {
   "name": "python"
  }
 },
 "nbformat": 4,
 "nbformat_minor": 2
}