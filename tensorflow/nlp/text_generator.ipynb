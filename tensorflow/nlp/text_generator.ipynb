{
 "cells": [
  {
   "cell_type": "code",
   "execution_count": 22,
   "source": [
    "import tensorflow as tf\r\n",
    "\r\n",
    "import numpy as np\r\n",
    "import os\r\n",
    "import time"
   ],
   "outputs": [],
   "metadata": {}
  },
  {
   "cell_type": "code",
   "execution_count": 23,
   "source": [
    "path_to_file = tf.keras.utils.get_file('shakespeare.txt', 'https://storage.googleapis.com/download.tensorflow.org/data/shakespeare.txt')"
   ],
   "outputs": [],
   "metadata": {}
  },
  {
   "cell_type": "code",
   "execution_count": 24,
   "source": [
    "text = open(path_to_file, 'rb').read().decode(encoding = 'utf-8')\r\n",
    "print('텍스트의 길이: {}'.format(len(text)))"
   ],
   "outputs": [
    {
     "output_type": "stream",
     "name": "stdout",
     "text": [
      "텍스트의 길이: 1115394\n"
     ]
    }
   ],
   "metadata": {}
  },
  {
   "cell_type": "code",
   "execution_count": 25,
   "source": [
    "print(text[:250])"
   ],
   "outputs": [
    {
     "output_type": "stream",
     "name": "stdout",
     "text": [
      "First Citizen:\n",
      "Before we proceed any further, hear me speak.\n",
      "\n",
      "All:\n",
      "Speak, speak.\n",
      "\n",
      "First Citizen:\n",
      "You are all resolved rather to die than to famish?\n",
      "\n",
      "All:\n",
      "Resolved. resolved.\n",
      "\n",
      "First Citizen:\n",
      "First, you know Caius Marcius is chief enemy to the people.\n",
      "\n"
     ]
    }
   ],
   "metadata": {}
  },
  {
   "cell_type": "code",
   "execution_count": 26,
   "source": [
    "vocab = sorted(set(text))\r\n",
    "print('고유 문자 수 : {}'.format(len(vocab)))"
   ],
   "outputs": [
    {
     "output_type": "stream",
     "name": "stdout",
     "text": [
      "고유 문자 수 : 65\n"
     ]
    }
   ],
   "metadata": {}
  },
  {
   "cell_type": "code",
   "execution_count": 27,
   "source": [
    "char2idx = {u : i for i, u in enumerate(vocab)}\r\n",
    "idx2char = np.array(vocab)\r\n",
    "\r\n",
    "text_as_int = np.array([char2idx[c] for c in text])"
   ],
   "outputs": [],
   "metadata": {}
  },
  {
   "cell_type": "code",
   "execution_count": 28,
   "source": [
    "print('{')\r\n",
    "for char, _ in zip(char2idx, range(20)):\r\n",
    "    print('  {:4s}: {:3d},'.format(repr(char), char2idx[char]))\r\n",
    "print(' ...\\n')"
   ],
   "outputs": [
    {
     "output_type": "stream",
     "name": "stdout",
     "text": [
      "{\n",
      "  '\\n':   0,\n",
      "  ' ' :   1,\n",
      "  '!' :   2,\n",
      "  '$' :   3,\n",
      "  '&' :   4,\n",
      "  \"'\" :   5,\n",
      "  ',' :   6,\n",
      "  '-' :   7,\n",
      "  '.' :   8,\n",
      "  '3' :   9,\n",
      "  ':' :  10,\n",
      "  ';' :  11,\n",
      "  '?' :  12,\n",
      "  'A' :  13,\n",
      "  'B' :  14,\n",
      "  'C' :  15,\n",
      "  'D' :  16,\n",
      "  'E' :  17,\n",
      "  'F' :  18,\n",
      "  'G' :  19,\n",
      " ...\n",
      "\n"
     ]
    }
   ],
   "metadata": {}
  },
  {
   "cell_type": "code",
   "execution_count": 29,
   "source": [
    "seq_len = 100\r\n",
    "examples_per_epochs = len(text)//seq_len\r\n",
    "\r\n",
    "char_dataset = tf.data.Dataset.from_tensor_slices(text_as_int)\r\n",
    "\r\n",
    "for i in char_dataset.take(5):\r\n",
    "    print(idx2char[i.numpy()])"
   ],
   "outputs": [
    {
     "output_type": "stream",
     "name": "stdout",
     "text": [
      "F\n",
      "i\n",
      "r\n",
      "s\n",
      "t\n"
     ]
    }
   ],
   "metadata": {}
  },
  {
   "cell_type": "code",
   "execution_count": 30,
   "source": [
    "sequences = char_dataset.batch(seq_len + 1, drop_remainder = True)\r\n",
    "\r\n",
    "for item in sequences.take(5):\r\n",
    "    print(repr(''.join(idx2char[item.numpy()])))"
   ],
   "outputs": [
    {
     "output_type": "stream",
     "name": "stdout",
     "text": [
      "'First Citizen:\\nBefore we proceed any further, hear me speak.\\n\\nAll:\\nSpeak, speak.\\n\\nFirst Citizen:\\nYou '\n",
      "'are all resolved rather to die than to famish?\\n\\nAll:\\nResolved. resolved.\\n\\nFirst Citizen:\\nFirst, you k'\n",
      "\"now Caius Marcius is chief enemy to the people.\\n\\nAll:\\nWe know't, we know't.\\n\\nFirst Citizen:\\nLet us ki\"\n",
      "\"ll him, and we'll have corn at our own price.\\nIs't a verdict?\\n\\nAll:\\nNo more talking on't; let it be d\"\n",
      "'one: away, away!\\n\\nSecond Citizen:\\nOne word, good citizens.\\n\\nFirst Citizen:\\nWe are accounted poor citi'\n"
     ]
    }
   ],
   "metadata": {}
  },
  {
   "cell_type": "code",
   "execution_count": 31,
   "source": [
    "def split_input_target(chunk):\r\n",
    "    input_text = chunk[:-1]\r\n",
    "    target_text = chunk[1:]\r\n",
    "    return input_text, target_text\r\n",
    "\r\n",
    "dataset = sequences.map(split_input_target)"
   ],
   "outputs": [],
   "metadata": {}
  },
  {
   "cell_type": "code",
   "execution_count": 32,
   "source": [
    "for input_example, target_example in dataset.take(1):\r\n",
    "    print('input data : {}'.format(repr(''.join(idx2char[input_example.numpy()]))))\r\n",
    "    print('target data : {}'.format(repr(''.join(idx2char[target_example.numpy()]))))"
   ],
   "outputs": [
    {
     "output_type": "stream",
     "name": "stdout",
     "text": [
      "input data : 'First Citizen:\\nBefore we proceed any further, hear me speak.\\n\\nAll:\\nSpeak, speak.\\n\\nFirst Citizen:\\nYou'\n",
      "target data : 'irst Citizen:\\nBefore we proceed any further, hear me speak.\\n\\nAll:\\nSpeak, speak.\\n\\nFirst Citizen:\\nYou '\n"
     ]
    }
   ],
   "metadata": {}
  },
  {
   "cell_type": "code",
   "execution_count": 33,
   "source": [
    "batch_size = 64\r\n",
    "buffer_size = 10000\r\n",
    "\r\n",
    "dataset = dataset.shuffle(buffer_size= buffer_size).batch(batch_size, drop_remainder= True)\r\n",
    "\r\n",
    "print(dataset)"
   ],
   "outputs": [
    {
     "output_type": "stream",
     "name": "stdout",
     "text": [
      "<BatchDataset shapes: ((64, 100), (64, 100)), types: (tf.int32, tf.int32)>\n"
     ]
    }
   ],
   "metadata": {}
  },
  {
   "cell_type": "code",
   "execution_count": 34,
   "source": [
    "vocab_size = len(vocab)\r\n",
    "\r\n",
    "embedding_dim = 256\r\n",
    "\r\n",
    "rnn_units = 1024"
   ],
   "outputs": [],
   "metadata": {}
  },
  {
   "cell_type": "code",
   "execution_count": 35,
   "source": [
    "def build_model(vocab_size, embedding_dim, rnn_units, batch_size):\r\n",
    "    model = tf.keras.models.Sequential([\r\n",
    "        tf.keras.layers.Embedding(vocab_size, embedding_dim, batch_input_shape = [batch_size, None]),\r\n",
    "        tf.keras.layers.LSTM(rnn_units, return_sequences= True, stateful= True, recurrent_initializer= 'glorot_uniform'),\r\n",
    "        tf.keras.layers.Dense(vocab_size)\r\n",
    "    ])\r\n",
    "\r\n",
    "    return model"
   ],
   "outputs": [],
   "metadata": {}
  },
  {
   "cell_type": "code",
   "execution_count": 36,
   "source": [
    "model = build_model(vocab_size = vocab_size, embedding_dim= embedding_dim, rnn_units= rnn_units, batch_size = batch_size)"
   ],
   "outputs": [],
   "metadata": {}
  },
  {
   "cell_type": "code",
   "execution_count": 37,
   "source": [
    "for input_example_batch, target_example_batch in dataset.take(1):\r\n",
    "    example_batch_predictions = model(input_example_batch)\r\n",
    "    print(example_batch_predictions.shape)"
   ],
   "outputs": [
    {
     "output_type": "stream",
     "name": "stdout",
     "text": [
      "(64, 100, 65)\n"
     ]
    }
   ],
   "metadata": {}
  },
  {
   "cell_type": "code",
   "execution_count": 38,
   "source": [
    "model.summary()"
   ],
   "outputs": [
    {
     "output_type": "stream",
     "name": "stdout",
     "text": [
      "Model: \"sequential_1\"\n",
      "_________________________________________________________________\n",
      "Layer (type)                 Output Shape              Param #   \n",
      "=================================================================\n",
      "embedding_1 (Embedding)      (64, None, 256)           16640     \n",
      "_________________________________________________________________\n",
      "lstm_1 (LSTM)                (64, None, 1024)          5246976   \n",
      "_________________________________________________________________\n",
      "dense_1 (Dense)              (64, None, 65)            66625     \n",
      "=================================================================\n",
      "Total params: 5,330,241\n",
      "Trainable params: 5,330,241\n",
      "Non-trainable params: 0\n",
      "_________________________________________________________________\n"
     ]
    }
   ],
   "metadata": {}
  },
  {
   "cell_type": "code",
   "execution_count": 41,
   "source": [
    "sampled_indices = tf.random.categorical(example_batch_predictions[0], num_samples = 1)\r\n",
    "sampled_indices = tf.squeeze(sampled_indices, axis = -1).numpy()"
   ],
   "outputs": [],
   "metadata": {}
  },
  {
   "cell_type": "code",
   "execution_count": 42,
   "source": [
    "sampled_indices"
   ],
   "outputs": [
    {
     "output_type": "execute_result",
     "data": {
      "text/plain": [
       "array([13, 52, 54, 13, 32, 50, 39,  7, 27, 62, 25, 41, 38, 55, 44, 60, 27,\n",
       "       63, 21, 51, 24, 14, 25, 28, 57, 22, 42, 39, 28,  8, 26, 16, 36, 54,\n",
       "       51,  5,  1,  5, 28, 18, 57, 25,  4, 64, 48, 22, 49, 29, 36, 32, 19,\n",
       "       59, 37, 55,  1, 31, 25, 36,  0, 40, 40, 28, 42, 50,  2, 23, 51, 56,\n",
       "       20, 59,  9, 44, 56, 43,  8, 24, 21, 51, 27, 29, 20, 22,  3, 55, 14,\n",
       "       40,  2, 24, 64, 61,  6, 33, 24, 20, 17,  2, 40, 57, 41, 12],\n",
       "      dtype=int64)"
      ]
     },
     "metadata": {},
     "execution_count": 42
    }
   ],
   "metadata": {}
  },
  {
   "cell_type": "code",
   "execution_count": 43,
   "source": [
    "print('input : \\n', repr(''.join(idx2char[input_example_batch[0]])))\r\n",
    "print()\r\n",
    "print('expected : \\n', repr(''.join(idx2char[sampled_indices])))"
   ],
   "outputs": [
    {
     "output_type": "stream",
     "name": "stdout",
     "text": [
      "input : \n",
      " \" seeth not this palpable device?\\nYet who's so blind, but says he sees it not?\\nBad is the world; and \"\n",
      "\n",
      "expected : \n",
      " \"AnpATla-OxMcZqfvOyImLBMPsJdaP.NDXpm' 'PFsM&zjJkQXTGuYq SMX\\nbbPdl!KmrHu3fre.LImOQHJ$qBb!Lzw,ULHE!bsc?\"\n"
     ]
    }
   ],
   "metadata": {}
  },
  {
   "cell_type": "code",
   "execution_count": 44,
   "source": [
    "def loss(label, logits):\r\n",
    "    return tf.keras.losses.sparse_categorical_crossentropy(label, logits, from_logits= True)\r\n",
    "\r\n",
    "example_batch_loss = loss(target_example_batch, example_batch_predictions)"
   ],
   "outputs": [],
   "metadata": {}
  },
  {
   "cell_type": "code",
   "execution_count": 45,
   "source": [
    "model.compile(optimizer= 'adam', loss = loss)"
   ],
   "outputs": [],
   "metadata": {}
  },
  {
   "cell_type": "code",
   "execution_count": 46,
   "source": [
    "checkpoint_dir = './training_checkpoints'\r\n",
    "\r\n",
    "checkpoint_prefix = os.path.join(checkpoint_dir, 'ckpt_{epoch}')\r\n",
    "\r\n",
    "checkpoint_callback = tf.keras.callbacks.ModelCheckpoint(\r\n",
    "    filepath= checkpoint_prefix,\r\n",
    "    save_weights_only= True\r\n",
    ")"
   ],
   "outputs": [],
   "metadata": {}
  },
  {
   "cell_type": "code",
   "execution_count": 47,
   "source": [
    "epochs = 10"
   ],
   "outputs": [],
   "metadata": {}
  },
  {
   "cell_type": "code",
   "execution_count": 48,
   "source": [
    "history = model.fit(dataset, epochs= epochs, callbacks= [checkpoint_callback])"
   ],
   "outputs": [
    {
     "output_type": "stream",
     "name": "stdout",
     "text": [
      "Epoch 1/10\n",
      "172/172 [==============================] - 611s 4s/step - loss: 2.6117\n",
      "Epoch 2/10\n",
      "172/172 [==============================] - 569s 3s/step - loss: 1.9111\n",
      "Epoch 3/10\n",
      "172/172 [==============================] - 573s 3s/step - loss: 1.6588\n",
      "Epoch 4/10\n",
      "172/172 [==============================] - 585s 3s/step - loss: 1.5182\n",
      "Epoch 5/10\n",
      "172/172 [==============================] - 595s 3s/step - loss: 1.4344\n",
      "Epoch 6/10\n",
      "172/172 [==============================] - 591s 3s/step - loss: 1.3765\n",
      "Epoch 7/10\n",
      "172/172 [==============================] - 570s 3s/step - loss: 1.3292\n",
      "Epoch 8/10\n",
      "172/172 [==============================] - 550s 3s/step - loss: 1.2898\n",
      "Epoch 9/10\n",
      "172/172 [==============================] - 545s 3s/step - loss: 1.2539\n",
      "Epoch 10/10\n",
      "172/172 [==============================] - 541s 3s/step - loss: 1.2182\n"
     ]
    }
   ],
   "metadata": {}
  },
  {
   "cell_type": "code",
   "execution_count": 49,
   "source": [
    "tf.train.latest_checkpoint(checkpoint_dir)"
   ],
   "outputs": [
    {
     "output_type": "execute_result",
     "data": {
      "text/plain": [
       "'./training_checkpoints\\\\ckpt_10'"
      ]
     },
     "metadata": {},
     "execution_count": 49
    }
   ],
   "metadata": {}
  },
  {
   "cell_type": "code",
   "execution_count": 51,
   "source": [
    "model = build_model(vocab_size= vocab_size, embedding_dim = embedding_dim, rnn_units = rnn_units, batch_size = 1)\r\n",
    "model.load_weights(tf.train.latest_checkpoint(checkpoint_dir))\r\n",
    "model.build(tf.TensorShape([1, None]))\r\n",
    "\r\n",
    "model.summary()"
   ],
   "outputs": [
    {
     "output_type": "stream",
     "name": "stdout",
     "text": [
      "Model: \"sequential_2\"\n",
      "_________________________________________________________________\n",
      "Layer (type)                 Output Shape              Param #   \n",
      "=================================================================\n",
      "embedding_2 (Embedding)      (1, None, 256)            16640     \n",
      "_________________________________________________________________\n",
      "lstm_2 (LSTM)                (1, None, 1024)           5246976   \n",
      "_________________________________________________________________\n",
      "dense_2 (Dense)              (1, None, 65)             66625     \n",
      "=================================================================\n",
      "Total params: 5,330,241\n",
      "Trainable params: 5,330,241\n",
      "Non-trainable params: 0\n",
      "_________________________________________________________________\n"
     ]
    }
   ],
   "metadata": {}
  },
  {
   "cell_type": "code",
   "execution_count": 52,
   "source": [
    "def generate_text(model, start_string):\r\n",
    "    num_generate = 1000\r\n",
    "\r\n",
    "    input_eval = [char2idx[s] for s in start_string]\r\n",
    "    input_eval = tf.expand_dims(input_eval, 0)\r\n",
    "\r\n",
    "    text_generated = []\r\n",
    "\r\n",
    "    temperature = 1.0\r\n",
    "\r\n",
    "    model.reset_states()\r\n",
    "    for i in range(num_generate):\r\n",
    "        predictions = model(input_eval)\r\n",
    "        predictions = tf.squeeze(predictions, 0)\r\n",
    "\r\n",
    "        predictions = predictions / temperature\r\n",
    "        predicted_id = tf.random.categorical(predictions, num_samples = 1)[-1, 0].numpy()\r\n",
    "\r\n",
    "        input_eval = tf.expand_dims([predicted_id], 0)\r\n",
    "\r\n",
    "        text_generated.append(idx2char[predicted_id])\r\n",
    "    \r\n",
    "    return (start_string + ''.join(text_generated))"
   ],
   "outputs": [],
   "metadata": {}
  },
  {
   "cell_type": "markdown",
   "source": [
    "print(generate_text(model, start_string= u\"ROMEO: \"))"
   ],
   "metadata": {}
  },
  {
   "cell_type": "code",
   "execution_count": null,
   "source": [],
   "outputs": [],
   "metadata": {}
  }
 ],
 "metadata": {
  "orig_nbformat": 4,
  "language_info": {
   "name": "python",
   "version": "3.8.0",
   "mimetype": "text/x-python",
   "codemirror_mode": {
    "name": "ipython",
    "version": 3
   },
   "pygments_lexer": "ipython3",
   "nbconvert_exporter": "python",
   "file_extension": ".py"
  },
  "kernelspec": {
   "name": "python3",
   "display_name": "Python 3.8.0 64-bit ('tf_2.0': conda)"
  },
  "interpreter": {
   "hash": "dd2cd71f5f8c75eaad6bd95a58485788371a9ea1e55a23237c1542371fc49f1f"
  }
 },
 "nbformat": 4,
 "nbformat_minor": 2
}